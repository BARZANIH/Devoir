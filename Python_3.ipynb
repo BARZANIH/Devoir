{
 "cells": [
  {
   "cell_type": "code",
   "execution_count": 1,
   "id": "520c8730",
   "metadata": {},
   "outputs": [],
   "source": [
    "import numpy as np\n",
    "from math import *"
   ]
  },
  {
   "cell_type": "code",
   "execution_count": 2,
   "id": "4b0e8c16",
   "metadata": {},
   "outputs": [],
   "source": [
    "def formule():\n",
    "    S=float(input(\"Entrer Le prix actual de l'action:\"))\n",
    "    X=float(input(\"Entrer Le prix d'exercice de l'option:\"))\n",
    "    T=float(input(\"Temps restant avant l’expiration de l’option, en pourcentage d’une année:\"))\n",
    "    r=float(input(\"Taux d’intérêt sans risque:\"))\n",
    "    v=float(input(\"volatilité implicite du prix de l’action, mesurée par un décimal:\"))\n",
    "    d1=(np.log(S/X)+((r+v**2)/2)*T)/(v*sqrt(T))\n",
    "    d2=d1-v*sqrt(T)\n",
    "    print(\"d1:\",d1)\n",
    "    print(\"d2:\",d2)"
   ]
  },
  {
   "cell_type": "code",
   "execution_count": 4,
   "id": "b3167d72",
   "metadata": {},
   "outputs": [
    {
     "name": "stdout",
     "output_type": "stream",
     "text": [
      "Entrer Le prix actual de l'action:35\n",
      "Entrer Le prix d'exercice de l'option:40\n",
      "Temps restant avant l’expiration de l’option, en pourcentage d’une année:0.2466\n",
      "Taux d’intérêt sans risque:0.02\n",
      "volatilité implicite du prix de l’action, mesurée par un décimal:0.25\n",
      "d1: -0.9936531129832329\n",
      "d2: -1.1178002031625842\n"
     ]
    }
   ],
   "source": [
    "formule()"
   ]
  },
  {
   "cell_type": "code",
   "execution_count": null,
   "id": "5d4b4155",
   "metadata": {},
   "outputs": [],
   "source": [
    "S = 35$\n",
    "X = 40$\n",
    "T = 90/365 = 0,2466\n",
    "r = 2%\n",
    "σ = 0,25"
   ]
  }
 ],
 "metadata": {
  "kernelspec": {
   "display_name": "Python 3",
   "language": "python",
   "name": "python3"
  },
  "language_info": {
   "codemirror_mode": {
    "name": "ipython",
    "version": 3
   },
   "file_extension": ".py",
   "mimetype": "text/x-python",
   "name": "python",
   "nbconvert_exporter": "python",
   "pygments_lexer": "ipython3",
   "version": "3.8.8"
  }
 },
 "nbformat": 4,
 "nbformat_minor": 5
}
