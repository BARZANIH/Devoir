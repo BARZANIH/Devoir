{
 "cells": [
  {
   "cell_type": "code",
   "execution_count": 1,
   "id": "28a9cae4",
   "metadata": {},
   "outputs": [],
   "source": [
    "def calculfact(n):\n",
    "    if n==0:\n",
    "        return 1\n",
    "    else:\n",
    "        return n*calculfact(n-1)"
   ]
  },
  {
   "cell_type": "markdown",
   "id": "0e3f6bce",
   "metadata": {},
   "source": [
    "# Verifier si n est un float ou une chiane de caractere!!!"
   ]
  },
  {
   "cell_type": "code",
   "execution_count": 10,
   "id": "3c9f10d7",
   "metadata": {},
   "outputs": [],
   "source": [
    "def factorielle_v1(n):\n",
    "    if (type(n)==str):\n",
    "        while(type(n)==str):\n",
    "            try:\n",
    "                n = int(input()) #### Saisie d'une nouvelle valeur de n\n",
    "            except:\n",
    "                print(\"on peut pas calculer le factorielle d'une chaine de caractère!!!\")\n",
    "                print(\"Veuillez saisir un valeur numérique:\")\n",
    "    if (type(n)==float):\n",
    "        while(type(n)==float):\n",
    "            try:\n",
    "                print(\"Veuillez saisir un valeur numérique entier:\")\n",
    "                n = int(input()) #### Saisie d'une nouvelle valeur de n\n",
    "            except:\n",
    "                print(\"on peut pas calculer le factorielle d'un nombre réel!!!\")\n",
    "            \n",
    "    return calculfact(n)"
   ]
  },
  {
   "cell_type": "code",
   "execution_count": 3,
   "id": "bbe9348e",
   "metadata": {},
   "outputs": [
    {
     "name": "stdout",
     "output_type": "stream",
     "text": [
      "l\n",
      "on peut pas calculer le factorielle d'une chaine de caractère!!!\n",
      "Veuillez saisir un valeur numérique:\n",
      "j\n",
      "on peut pas calculer le factorielle d'une chaine de caractère!!!\n",
      "Veuillez saisir un valeur numérique:\n",
      "5\n"
     ]
    },
    {
     "data": {
      "text/plain": [
       "120"
      ]
     },
     "execution_count": 3,
     "metadata": {},
     "output_type": "execute_result"
    }
   ],
   "source": [
    "factorielle_v1('k')"
   ]
  },
  {
   "cell_type": "code",
   "execution_count": 11,
   "id": "a25f45c1",
   "metadata": {},
   "outputs": [
    {
     "name": "stdout",
     "output_type": "stream",
     "text": [
      "Veuillez saisir un valeur numérique entier:\n",
      "5.5\n",
      "on peut pas calculer le factorielle d'un nombre réel!!!\n",
      "Veuillez saisir un valeur numérique entier:\n",
      "12.5\n",
      "on peut pas calculer le factorielle d'un nombre réel!!!\n",
      "Veuillez saisir un valeur numérique entier:\n",
      "5\n"
     ]
    },
    {
     "data": {
      "text/plain": [
       "120"
      ]
     },
     "execution_count": 11,
     "metadata": {},
     "output_type": "execute_result"
    }
   ],
   "source": [
    "factorielle_v1(5.5)"
   ]
  },
  {
   "cell_type": "markdown",
   "id": "f9056c9b",
   "metadata": {},
   "source": [
    "# Verifier si n est un nombre complexe!!!"
   ]
  },
  {
   "cell_type": "code",
   "execution_count": 12,
   "id": "c2e6b1ed",
   "metadata": {},
   "outputs": [],
   "source": [
    "def is_complex(n):\n",
    "    if (type(n) == complex):\n",
    "        n = n.real #### On prend la partie réelle du nombre et on réaffecte la valeur de a avec\n",
    "    else:\n",
    "        n = n.real\n",
    "    return n"
   ]
  },
  {
   "cell_type": "code",
   "execution_count": 13,
   "id": "78674917",
   "metadata": {},
   "outputs": [
    {
     "data": {
      "text/plain": [
       "5.0"
      ]
     },
     "execution_count": 13,
     "metadata": {},
     "output_type": "execute_result"
    }
   ],
   "source": [
    "is_complex(5 + 2j)"
   ]
  },
  {
   "cell_type": "code",
   "execution_count": 17,
   "id": "5531a577",
   "metadata": {},
   "outputs": [],
   "source": [
    "def factorielle_v2(n):\n",
    "    if (type(n)==str):\n",
    "        while(type(n)==str):\n",
    "            try:\n",
    "                print(\"Veuillez saisir un valeur numérique:\")\n",
    "                n = int(input()) #### Saisie d'une nouvelle valeur de n\n",
    "            except:\n",
    "                print(\"on peut pas calculer le factorielle d'une chaine de caractère!!!\")\n",
    "    if (type(n)==float):\n",
    "        while(type(n)==float):\n",
    "            try:\n",
    "                print(\"Veuillez saisir un valeur numérique entier:\")\n",
    "                n = int(input()) #### Saisie d'une nouvelle valeur de n\n",
    "            except:\n",
    "                print(\"on peut pas calculer le factorielle d'un nombre réel!!!\")\n",
    "    elif (type(n) == complex):\n",
    "        is_complex(n)\n",
    "        print(is_complex(n))\n",
    "        n = is_complex(n)\n",
    "    return calculfact(n) "
   ]
  },
  {
   "cell_type": "code",
   "execution_count": 18,
   "id": "90b600b8",
   "metadata": {},
   "outputs": [
    {
     "name": "stdout",
     "output_type": "stream",
     "text": [
      "Veuillez saisir un valeur numérique:\n",
      "l\n",
      "on peut pas calculer le factorielle d'une chaine de caractère!!!\n",
      "Veuillez saisir un valeur numérique:\n",
      "m\n",
      "on peut pas calculer le factorielle d'une chaine de caractère!!!\n",
      "Veuillez saisir un valeur numérique:\n",
      "5.5\n",
      "on peut pas calculer le factorielle d'une chaine de caractère!!!\n",
      "Veuillez saisir un valeur numérique:\n",
      "5\n"
     ]
    },
    {
     "data": {
      "text/plain": [
       "120"
      ]
     },
     "execution_count": 18,
     "metadata": {},
     "output_type": "execute_result"
    }
   ],
   "source": [
    "factorielle_v2('f')"
   ]
  },
  {
   "cell_type": "code",
   "execution_count": 19,
   "id": "c17f0be9",
   "metadata": {},
   "outputs": [
    {
     "name": "stdout",
     "output_type": "stream",
     "text": [
      "5.0\n"
     ]
    },
    {
     "data": {
      "text/plain": [
       "120.0"
      ]
     },
     "execution_count": 19,
     "metadata": {},
     "output_type": "execute_result"
    }
   ],
   "source": [
    "factorielle_v2(5 + 2j)"
   ]
  },
  {
   "cell_type": "markdown",
   "id": "19d789f4",
   "metadata": {},
   "source": [
    "# Saisie d'un nombre négatif"
   ]
  },
  {
   "cell_type": "code",
   "execution_count": 20,
   "id": "13c1b066",
   "metadata": {},
   "outputs": [],
   "source": [
    "def negative(n):\n",
    "    if (n < 0):\n",
    "        print(\"vous avez saisie un nombre négative!on va le transformer en positive \")\n",
    "        n = abs(n)\n",
    "        return (n)\n",
    "    else:\n",
    "        return(n)"
   ]
  },
  {
   "cell_type": "code",
   "execution_count": 21,
   "id": "ba63a943",
   "metadata": {},
   "outputs": [
    {
     "name": "stdout",
     "output_type": "stream",
     "text": [
      "vous avez saisie un nombre négative!on va le transformer en positive \n",
      "5\n"
     ]
    }
   ],
   "source": [
    "print(negative(-5))"
   ]
  },
  {
   "cell_type": "code",
   "execution_count": 22,
   "id": "c0e10cd7",
   "metadata": {},
   "outputs": [
    {
     "name": "stdout",
     "output_type": "stream",
     "text": [
      "5\n"
     ]
    }
   ],
   "source": [
    "print(negative(5))"
   ]
  },
  {
   "cell_type": "markdown",
   "id": "dc466b47",
   "metadata": {},
   "source": [
    "# Saisie d'un très grand nombre & Saisie d'un très petit nombre"
   ]
  },
  {
   "cell_type": "code",
   "execution_count": 23,
   "id": "477b26e3",
   "metadata": {},
   "outputs": [],
   "source": [
    "def digit(n,x,y):\n",
    "    if (len(str(n)) > y ) :\n",
    "        while((len(str(n)) > y)):\n",
    "            print(\"Le nombre saisie comporte plus de {} digit, Veuillez le resaisir.\".format(y))\n",
    "            n = int(input())\n",
    "    if (len(str(n)) < x ) :\n",
    "        while((len(str(n)) < x)):\n",
    "            print(\"Le nombre saisie comporte moins de {} digit, Veuillez le resaisir.\".format(x))\n",
    "            n = int(input())\n",
    "    else:\n",
    "        pass\n",
    "    return (n)"
   ]
  },
  {
   "cell_type": "code",
   "execution_count": 24,
   "id": "104fc537",
   "metadata": {},
   "outputs": [
    {
     "name": "stdout",
     "output_type": "stream",
     "text": [
      "Le nombre saisie comporte moins de 3 digit, Veuillez le resaisir.\n",
      "100\n"
     ]
    },
    {
     "data": {
      "text/plain": [
       "100"
      ]
     },
     "execution_count": 24,
     "metadata": {},
     "output_type": "execute_result"
    }
   ],
   "source": [
    "digit(78,3,7)"
   ]
  },
  {
   "cell_type": "markdown",
   "id": "a3b14115",
   "metadata": {},
   "source": [
    "# Version Finale"
   ]
  },
  {
   "cell_type": "code",
   "execution_count": 25,
   "id": "2bb5fd43",
   "metadata": {},
   "outputs": [],
   "source": [
    "def factorielle_v3(n):\n",
    "    if (type(n)==str):\n",
    "        while(type(n)==str):\n",
    "            try:\n",
    "                print(\"Veuillez saisir un valeur numérique:\")\n",
    "                n = int(input()) #### Saisie d'une nouvelle valeur de n\n",
    "            except:\n",
    "                print(\"on peut pas calculer le factorielle d'une chaine de caractère!!!\")\n",
    "    if (type(n)==float):\n",
    "        while(type(n)==float):\n",
    "            try:\n",
    "                print(\"Veuillez saisir un valeur numérique entier:\")\n",
    "                n = int(input()) #### Saisie d'une nouvelle valeur de n\n",
    "            except:\n",
    "                print(\"on peut pas calculer le factorielle d'un nombre réel!!!\")\n",
    "    elif (type(n) == complex):\n",
    "        is_complex(n)\n",
    "        print(is_complex(n))\n",
    "        n = is_complex(n)\n",
    "    elif (n<0):\n",
    "        n = negative(n)\n",
    "    elif (len(str(n))<2 or len(str(n))>5):\n",
    "        n=digit(n,2,5)\n",
    "    return calculfact(n) "
   ]
  },
  {
   "cell_type": "code",
   "execution_count": 26,
   "id": "057a02b9",
   "metadata": {},
   "outputs": [
    {
     "name": "stdout",
     "output_type": "stream",
     "text": [
      "Veuillez saisir un valeur numérique:\n",
      "100\n"
     ]
    },
    {
     "data": {
      "text/plain": [
       "93326215443944152681699238856266700490715968264381621468592963895217599993229915608941463976156518286253697920827223758251185210916864000000000000000000000000"
      ]
     },
     "execution_count": 26,
     "metadata": {},
     "output_type": "execute_result"
    }
   ],
   "source": [
    "factorielle_v3('k')"
   ]
  },
  {
   "cell_type": "code",
   "execution_count": 27,
   "id": "2f9005aa",
   "metadata": {},
   "outputs": [
    {
     "name": "stdout",
     "output_type": "stream",
     "text": [
      "Veuillez saisir un valeur numérique entier:\n",
      "5\n"
     ]
    },
    {
     "data": {
      "text/plain": [
       "120"
      ]
     },
     "execution_count": 27,
     "metadata": {},
     "output_type": "execute_result"
    }
   ],
   "source": [
    "factorielle_v3(15.2)"
   ]
  },
  {
   "cell_type": "code",
   "execution_count": 28,
   "id": "809f89f0",
   "metadata": {},
   "outputs": [
    {
     "name": "stdout",
     "output_type": "stream",
     "text": [
      "5.0\n"
     ]
    },
    {
     "data": {
      "text/plain": [
       "120.0"
      ]
     },
     "execution_count": 28,
     "metadata": {},
     "output_type": "execute_result"
    }
   ],
   "source": [
    "factorielle_v3(5+1j)"
   ]
  },
  {
   "cell_type": "code",
   "execution_count": 29,
   "id": "16b1d318",
   "metadata": {},
   "outputs": [
    {
     "name": "stdout",
     "output_type": "stream",
     "text": [
      "vous avez saisie un nombre négative!on va le transformer en positive \n"
     ]
    },
    {
     "data": {
      "text/plain": [
       "120"
      ]
     },
     "execution_count": 29,
     "metadata": {},
     "output_type": "execute_result"
    }
   ],
   "source": [
    "factorielle_v3(-5)"
   ]
  },
  {
   "cell_type": "code",
   "execution_count": 30,
   "id": "ccdbb764",
   "metadata": {},
   "outputs": [
    {
     "name": "stdout",
     "output_type": "stream",
     "text": [
      "Le nombre saisie comporte moins de 2 digit, Veuillez le resaisir.\n",
      "10\n"
     ]
    },
    {
     "data": {
      "text/plain": [
       "3628800"
      ]
     },
     "execution_count": 30,
     "metadata": {},
     "output_type": "execute_result"
    }
   ],
   "source": [
    "factorielle_v3(2)"
   ]
  },
  {
   "cell_type": "code",
   "execution_count": 31,
   "id": "59d4adaa",
   "metadata": {},
   "outputs": [
    {
     "name": "stdout",
     "output_type": "stream",
     "text": [
      "Le nombre saisie comporte plus de 5 digit, Veuillez le resaisir.\n",
      "1234\n"
     ]
    },
    {
     "data": {
      "text/plain": [
       "51084981466469576881306176261004598750272741624636207875758364885679783886389114119904367398214909451616865959797190085595957216060201081790863562740711392408402606162284424347926444168293770306459877429620549980121621880068812119922825565603750036793657428476498577316887890689284884464423522469162924654419945496940052746066950867784084753581540148194316888303839694860870357008235525028115281402379270279446743097868896180567901452872031734195056432576568754346528258569883526859826727735838654082246721751819658052692396270611348013013786739320229706009940781025586038809493013992111030432473321532228589636150722621360366978607484692870955691740723349227220367512994355146567475980006373400215826077949494335370591623671142026957923937669224771617167959359650439966392673073180139376563073706562200771241291710828132078928672693377605280698340976512622686207175259108984253979970269330591951400265868944014001740606398220709859461709972092316953639707607509036387468655214963966625322700932867195641466506305265122238332824677892386098873045477946570475614470735681011537762930068333229753461311175690053190276217215938122229254011663319535668562288276814566536254139944327446923749675156838399258655227114181067181300031191298489076680172983118121156086627360397334232174932132686080901569496392129263706595509472541921027039947595787992209537069031379517112985804276412719491334730247762876260753560199012424360211862466047511184797159731714330368251192307852167757615200611669009575630075581632200897019110165738489288234845801413542090086926381756642228872729319587724120647133695447658709466047131787467521648967375146176025775545958018149895570817463048968329692812003996105944812538484291689075721849889797647554854834050132592317503861422078077932841396250772305892378304960421024845815047928229669342818218960243579473180986996883486164613586224677782405363675732940386436560159992961462550218529921214223556288943276860000631422449845365510986932611414112386178573447134236164502410346254516421812825350152383907925299199371093902393126317590337340371199288380603694517035662665827287352023563128756402516081749705325705196477769315311164029733067419282135214232605607889159739038923579732630816548135472123812968829466513428484683760888731900685205308016495533252055718190142644320009683032677163609744614629730631454898167462966265387871725580083514565623719270635683662268663333999029883429331462872848995229714115709023973771126468913873648061531223428749576267079084534656923514931496743842559669386638509884709307166187205161445819828263679270112614012378542273837296427044021252077863706963514486218183806491868791174785424506337810550453063897866281127060200866754011181906809870372032953354528699094096145120997842075109057859226120844176454175393781254004382091350994101959406590175402086698874583611581937347003423449521223245166665792257252160462357733000925232292157683100179557359793926298007588370474068230320921987459976042606283566005158202572800000000000000000000000000000000000000000000000000000000000000000000000000000000000000000000000000000000000000000000000000000000000000000000000000000000000000000000000000000000000000000000000000000000000000000000000000000000000000000000000000000000000000000000000000000000000000000000000000000000000000000"
      ]
     },
     "execution_count": 31,
     "metadata": {},
     "output_type": "execute_result"
    }
   ],
   "source": [
    "factorielle_v3(12356485)"
   ]
  },
  {
   "cell_type": "code",
   "execution_count": null,
   "id": "f9754823",
   "metadata": {},
   "outputs": [],
   "source": []
  }
 ],
 "metadata": {
  "kernelspec": {
   "display_name": "Python 3",
   "language": "python",
   "name": "python3"
  },
  "language_info": {
   "codemirror_mode": {
    "name": "ipython",
    "version": 3
   },
   "file_extension": ".py",
   "mimetype": "text/x-python",
   "name": "python",
   "nbconvert_exporter": "python",
   "pygments_lexer": "ipython3",
   "version": "3.8.8"
  }
 },
 "nbformat": 4,
 "nbformat_minor": 5
}
